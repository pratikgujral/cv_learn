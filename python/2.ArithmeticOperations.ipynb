{
 "cells": [
  {
   "cell_type": "code",
   "execution_count": 1,
   "metadata": {},
   "outputs": [],
   "source": [
    "# Imports\n",
    "import cv2"
   ]
  },
  {
   "cell_type": "code",
   "execution_count": 2,
   "metadata": {},
   "outputs": [],
   "source": [
    "## Reading images\n",
    "dolphin = cv2.imread('../input_files/dolphin.jpg')\n",
    "bicycle = cv2.imread('../input_files/bicycle.jpg')\n",
    "cv2.imshow('dolphin original', dolphin)\n",
    "cv2.imshow('bicycle original', bicycle)\n",
    "cv2.waitKey(0)\n",
    "cv2.destroyAllWindows()"
   ]
  },
  {
   "cell_type": "code",
   "execution_count": 4,
   "metadata": {},
   "outputs": [
    {
     "name": "stdout",
     "output_type": "stream",
     "text": [
      "(200, 300, 3)\n",
      "(200, 300, 3)\n"
     ]
    }
   ],
   "source": [
    "## Ensuring images have the same size\n",
    "print(dolphin.shape)\n",
    "print(bicycle.shape)"
   ]
  },
  {
   "cell_type": "markdown",
   "metadata": {},
   "source": [
    "# Addition"
   ]
  },
  {
   "cell_type": "code",
   "execution_count": 8,
   "metadata": {},
   "outputs": [],
   "source": [
    "## Addition\n",
    "cv2.imshow('dolphin + bicycle', dolphin + bicycle)  # Modulo addition\n",
    "cv2.imshow('dolphin/2 + bicycle/2', dolphin/2 + bicycle/2) # Modulo addition \n",
    "cv2.imshow('cv2.add(dolphin, bicycle)', cv2.add(dolphin, bicycle)) # Saturated addition\n",
    "cv2.imshow('cv2.add(dolphin/2, bicycle/2)', cv2.add(dolphin/2, bicycle/2)) # Saturated addition\n",
    "cv2.waitKey(0)\n",
    "cv2.destroyAllWindows()"
   ]
  },
  {
   "cell_type": "code",
   "execution_count": 9,
   "metadata": {
    "collapsed": true
   },
   "outputs": [
    {
     "name": "stdout",
     "output_type": "stream",
     "text": [
      "[[[ 143.   107.5   38.5]\n",
      "  [ 142.   106.5   38.5]\n",
      "  [ 141.5  106.5   40.5]\n",
      "  ..., \n",
      "  [ 191.5  159.    80.5]\n",
      "  [ 195.5  163.    84.5]\n",
      "  [ 199.5  167.    89. ]]\n",
      "\n",
      " [[ 118.    82.    15. ]\n",
      "  [ 117.    83.    16. ]\n",
      "  [ 115.5   81.5   15.5]\n",
      "  ..., \n",
      "  [ 188.   155.5   78. ]\n",
      "  [ 191.5  159.    80.5]\n",
      "  [ 195.   162.5   84.5]]\n",
      "\n",
      " [[ 115.5   81.    16. ]\n",
      "  [ 118.    83.5   18. ]\n",
      "  [ 117.    83.    17.5]\n",
      "  ..., \n",
      "  [ 186.   153.5   77. ]\n",
      "  [ 189.   156.5   79. ]\n",
      "  [ 191.5  159.    82. ]]\n",
      "\n",
      " ..., \n",
      " [[ 182.5  151.    94. ]\n",
      "  [ 181.5  150.5   91.5]\n",
      "  [ 181.   151.5   91.5]\n",
      "  ..., \n",
      "  [ 179.   145.5   88. ]\n",
      "  [ 177.   143.5   86.5]\n",
      "  [ 176.   142.5   85.5]]\n",
      "\n",
      " [[ 178.5  146.    91.5]\n",
      "  [ 178.5  147.    90. ]\n",
      "  [ 180.5  149.5   92. ]\n",
      "  ..., \n",
      "  [ 180.   146.5   88.5]\n",
      "  [ 178.5  144.5   88. ]\n",
      "  [ 178.   144.    87.5]]\n",
      "\n",
      " [[ 177.5  145.    93. ]\n",
      "  [ 176.5  144.5   89.5]\n",
      "  [ 177.   145.5   89.5]\n",
      "  ..., \n",
      "  [ 180.5  146.5   90. ]\n",
      "  [ 180.5  146.5   90. ]\n",
      "  [ 180.5  146.5   90. ]]]\n"
     ]
    }
   ],
   "source": [
    "print(dolphin/2 + bicycle/2)"
   ]
  },
  {
   "cell_type": "code",
   "execution_count": 3,
   "metadata": {},
   "outputs": [],
   "source": [
    "## Weighted Addition\n",
    "im_res = (0.3) * dolphin + (0.7) * bicycle\n",
    "## Can also use the addWeighted function from cv2 library\n",
    "## \n",
    "im_res2 = cv2.addWeighted(dolphin, 0.3, bicycle, 0.7, 0) ## Preferred way to add images\n",
    "\n",
    "cv2.imshow('im_res', im_res)\n",
    "cv2.imshow('im_res2', im_res2)\n",
    "\n",
    "cv2.waitKey(0)\n",
    "cv2.destroyAllWindows()"
   ]
  },
  {
   "cell_type": "markdown",
   "metadata": {},
   "source": []
  },
  {
   "cell_type": "code",
   "execution_count": null,
   "metadata": {},
   "outputs": [],
   "source": []
  },
  {
   "cell_type": "code",
   "execution_count": null,
   "metadata": {},
   "outputs": [],
   "source": []
  }
 ],
 "metadata": {
  "kernelspec": {
   "display_name": "Python 3",
   "language": "python",
   "name": "python3"
  },
  "language_info": {
   "codemirror_mode": {
    "name": "ipython",
    "version": 3
   },
   "file_extension": ".py",
   "mimetype": "text/x-python",
   "name": "python",
   "nbconvert_exporter": "python",
   "pygments_lexer": "ipython3",
   "version": "3.6.3"
  }
 },
 "nbformat": 4,
 "nbformat_minor": 2
}
