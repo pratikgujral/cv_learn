{
 "cells": [
  {
   "cell_type": "code",
   "execution_count": 4,
   "metadata": {},
   "outputs": [],
   "source": [
    "import cv2\n",
    "import numpy as np"
   ]
  },
  {
   "cell_type": "code",
   "execution_count": 2,
   "metadata": {},
   "outputs": [],
   "source": [
    "## Reading images\n",
    "bicycle = cv2.imread('../input_files/bicycle.jpg')\n",
    "cv2.imshow('bicycle original', bicycle)\n",
    "cv2.waitKey(0)\n",
    "cv2.destroyAllWindows()"
   ]
  },
  {
   "cell_type": "code",
   "execution_count": 9,
   "metadata": {},
   "outputs": [],
   "source": [
    "## Convolution\n",
    "kernel = np.ones([5,5], np.float32) / 25\n",
    "kernel\n",
    "dst = cv2.filter2D(bicycle, -1, kernel)\n",
    "cv2.imshow('bicycle blurred', dst)\n",
    "cv2.waitKey(0)\n",
    "cv2.destroyAllWindows()"
   ]
  },
  {
   "cell_type": "code",
   "execution_count": 17,
   "metadata": {},
   "outputs": [],
   "source": [
    "## Averaging: The Kernel has equal filter cooefficients\n",
    "cv2.imshow('blur', cv2.blur(src=bicycle, ksize=(3,3)))\n",
    "cv2.imshow('boxFilter', cv2.boxFilter(src=bicycle, ddepth=-1, ksize=(3,3)))\n",
    "cv2.waitKey(0)\n",
    "cv2.destroyAllWindows()"
   ]
  },
  {
   "cell_type": "code",
   "execution_count": 38,
   "metadata": {},
   "outputs": [],
   "source": [
    "##### Gaussian: Kernel values follow a Gaussian distribution. Kernel should have Odd dimensions. This allows finding middel pixel\n",
    "cv2.imshow('Gaussian', cv2.GaussianBlur(src=bicycle, ksize=(7,7), sigmaX=3))\n",
    "cv2.waitKey(0)\n",
    "cv2.destroyAllWindows()"
   ]
  },
  {
   "cell_type": "code",
   "execution_count": 39,
   "metadata": {},
   "outputs": [],
   "source": [
    "## Median filtering: Used to filter out salt and pepper noise\n",
    "cv2."
   ]
  },
  {
   "cell_type": "code",
   "execution_count": null,
   "metadata": {},
   "outputs": [],
   "source": []
  }
 ],
 "metadata": {
  "kernelspec": {
   "display_name": "Python 3",
   "language": "python",
   "name": "python3"
  },
  "language_info": {
   "codemirror_mode": {
    "name": "ipython",
    "version": 3
   },
   "file_extension": ".py",
   "mimetype": "text/x-python",
   "name": "python",
   "nbconvert_exporter": "python",
   "pygments_lexer": "ipython3",
   "version": "3.6.3"
  }
 },
 "nbformat": 4,
 "nbformat_minor": 2
}
